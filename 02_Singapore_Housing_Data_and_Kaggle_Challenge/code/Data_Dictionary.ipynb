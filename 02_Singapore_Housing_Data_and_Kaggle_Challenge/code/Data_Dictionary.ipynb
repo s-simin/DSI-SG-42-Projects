{
 "cells": [
  {
   "cell_type": "markdown",
   "id": "ee6e7b0d",
   "metadata": {},
   "source": [
    "### Data Dictionary\n",
    "\n",
    "| No. | Column(s)                                | Description                                                                                                                                      |\n",
    "|-----|------------------------------------------|----------------------------------------------------------------------------------------------------|\n",
    "| 1   | flat_type                                | type of the resale flat unit, e.g. 3 ROOM                       \n",
    "| 2   | lease_commence_date                      | commencement year of the flat unit's 99-year lease               \n",
    "| 3   | tranc_year                               | year of resale transaction              \n",
    "| 4   | tranc_month                              | month of resale transaction                                     \n",
    "| 5   | mid_storey                               | median value of storey_range                                     \n",
    "| 6   | floor_area_sqft                          | floor area of the resale flat unit in square feet\n",
    "| 7   | commercial                               | boolean value if resale flat has commercial units in the same block                                            |\n",
    "| 8   | market_hawker                            | boolean value if resale flat has a market or hawker centre in the same block                                   |\n",
    "| 9   | multistorey_carpark                      | boolean value if resale flat has a multistorey carpark in the same block                                       |\n",
    "| 10  | total_dwelling_units                     | total number of residential dwelling units in the resale flat\n",
    "| 11  | planning_area                            | Government planning area that the flat is located               \n",
    "| 12  | mall_within_1km                          | number of malls within 1 kilometre  \n",
    "| 13  | mall_nearest_distance                    | distance (in metres) to the nearest mall    \n",
    "| 14  | hawker_within_1km                        | number of hawker centres within 1 kilometre\n",
    "| 15  | hawker_nearest_distance                  | distance (in metres) to the nearest hawker centre\n",
    "| 16  | mrt_nearest_distance                     | distance (in metres) to the nearest MRT station\n",
    "| 17  | bus_stop_nearest_distance                | distance (in metres) to the nearest bus stop\n",
    "| 18  | pri_sch_nearest_distance                 | distance (in metres) to the nearest primary school\n",
    "| 19  | vacancy                                  | number of vacancies in the nearest primary school\n",
    "| 20  | pri_sch_affiliation                      | boolean value if the nearest primary school has a secondary school affiliation\n",
    "| 21  | sec_sch_nearest_dist                     | distance (in metres) to the nearest secondary school\n",
    "| 22  | cutoff_point                             | PSLE cutoff point of the nearest secondary school\n",
    "| 23  | max_floor_lvl                            | highest floor of the resale flat\n",
    "| 24  | city_distance                            | distance (in metres) to the city (Raffles Place)\n",
    "| 25  | age_sold                                 | difference between tranc_year and lease_commence_date\n",
    "| 26  | citydist*mallneardist                   | interaction term between city_distance and mall_nearest_distance\n",
    "| 27  | midstorey*floorarea                     | interaction term between mid_storey and floor_area_sqft"
   ]
  }
 ],
 "metadata": {
  "kernelspec": {
   "display_name": "Python 3 (ipykernel)",
   "language": "python",
   "name": "python3"
  },
  "language_info": {
   "codemirror_mode": {
    "name": "ipython",
    "version": 3
   },
   "file_extension": ".py",
   "mimetype": "text/x-python",
   "name": "python",
   "nbconvert_exporter": "python",
   "pygments_lexer": "ipython3",
   "version": "3.11.5"
  }
 },
 "nbformat": 4,
 "nbformat_minor": 5
}
